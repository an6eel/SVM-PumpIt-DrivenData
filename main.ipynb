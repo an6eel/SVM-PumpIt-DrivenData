{
 "cells": [
  {
   "cell_type": "code",
   "execution_count": 1,
   "metadata": {
    "pycharm": {
     "is_executing": false
    }
   },
   "outputs": [],
   "source": [
    "from preprocess import dataPreprocess, read_data\n",
    "import pandas as pd\n",
    "labels_type = {\n",
    "    \"id\": int,\n",
    "    \"status_group\": str\n",
    "}\n",
    "import numpy as np"
   ]
  },
  {
   "cell_type": "code",
   "execution_count": 2,
   "metadata": {
    "pycharm": {
     "is_executing": false,
     "name": "#%%\n"
    }
   },
   "outputs": [],
   "source": [
    "model = dataPreprocess()\n",
    "train = read_data(\"data/train.csv\")\n",
    "model = model.fit(train)\n",
    "train_cleaned = model.transform(train)\n",
    "labels = pd.read_csv(\"data/labels.csv\", dtype=labels_type)\n",
    "train_cleaned = pd.merge(train_cleaned, labels, left_on=\"id\", right_on=\"id\")\n",
    "test = read_data(\"data/test.csv\")\n",
    "test_cleaned = model.transform(test)\n",
    "train_cleaned.to_csv(\"data/train_cleaned.csv\")\n",
    "test_cleaned.to_csv(\"data/test_cleaned.csv\")"
   ]
  }
 ],
 "metadata": {
  "kernelspec": {
   "display_name": "Python 3",
   "language": "python",
   "name": "python3"
  },
  "language_info": {
   "codemirror_mode": {
    "name": "ipython",
    "version": 3
   },
   "file_extension": ".py",
   "mimetype": "text/x-python",
   "name": "python",
   "nbconvert_exporter": "python",
   "pygments_lexer": "ipython3",
   "version": "3.6.9"
  },
  "pycharm": {
   "stem_cell": {
    "cell_type": "raw",
    "metadata": {
     "collapsed": false
    },
    "source": []
   }
  }
 },
 "nbformat": 4,
 "nbformat_minor": 1
}
